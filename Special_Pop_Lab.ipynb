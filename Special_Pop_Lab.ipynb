{
  "nbformat": 4,
  "nbformat_minor": 0,
  "metadata": {
    "colab": {
      "provenance": []
    },
    "kernelspec": {
      "name": "python3",
      "display_name": "Python 3"
    },
    "language_info": {
      "name": "python"
    }
  },
  "cells": [
    {
      "cell_type": "code",
      "source": [
        "import requests\n",
        "from datetime import datetime\n",
        "import time\n",
        "\n",
        "# Using open source github api for aircraft\n",
        "BASE_URL = \"https://api.adsbdb.com/v0/aircraft\"\n",
        "CALLSIGN_URL = \"https://api.adsbdb.com/v0/callsign\"\n",
        "\n",
        "# Plane tail numbers for each celebrity\n",
        "aircraft_info = {\n",
        "    'N350XX': 'Tom Cruise',\n",
        "    'N621MM': 'Taylor Swift',\n",
        "    'N628TS': 'Elon Musk'\n",
        "}\n",
        "\n",
        "# Get general info about the plane based on tail number\n",
        "def get_aircraft_data(tail_number):\n",
        "    url = f\"{BASE_URL}/{tail_number}\"\n",
        "    try:\n",
        "        response = requests.get(url)\n",
        "        data = response.json()\n",
        "\n",
        "        if \"response\" in data and \"aircraft\" in data[\"response\"]:\n",
        "            aircraft = data[\"response\"][\"aircraft\"]\n",
        "            return (f\"* Type: {aircraft.get('type', 'N/A')}\\n - ICAO Type: {aircraft.get('icao_type', 'N/A')}\\n - Manufacturer: {aircraft.get('manufacturer', 'N/A')}\\n - Registered Owner: {aircraft.get('registered_owner', 'N/A')}\\n - Country: {aircraft.get('registered_owner_country_name', 'N/A')}\")\n",
        "        else:\n",
        "            return \"No aircraft data found for this tail number\"\n",
        "    except requests.RequestException as e:\n",
        "        return f\"Error fetching data: {str(e)}\"\n",
        "\n",
        "# Get data on the location from the last flight of the plane based on tail number (doesn't always work but worked for Tom Cruise's plane)\n",
        "def get_aircraft_location(tail_number):\n",
        "    url = f\"{CALLSIGN_URL}/{tail_number}\"\n",
        "    try:\n",
        "        response = requests.get(url)\n",
        "        data = response.json()\n",
        "\n",
        "        if \"response\" in data and \"flightroute\" in data[\"response\"]:\n",
        "            flightroute = data[\"response\"][\"flightroute\"]\n",
        "            origin = flightroute.get(\"origin\", {})\n",
        "            destination = flightroute.get(\"destination\", {})\n",
        "\n",
        "            origin_name = origin.get(\"name\")\n",
        "            origin_iata = origin.get(\"iata_code\")\n",
        "            origin_lat = origin.get(\"latitude\")\n",
        "            origin_lon = origin.get(\"longitude\")\n",
        "            origin_location = f\"{origin.get('municipality')}, {origin.get('country_name')}, ({origin_lat}, {origin_lon})\"\n",
        "\n",
        "            dest_name = destination.get(\"name\")\n",
        "            dest_iata = destination.get(\"iata_code\")\n",
        "            dest_lat = destination.get(\"latitude\")\n",
        "            dest_lon = destination.get(\"longitude\")\n",
        "            dest_location = f\"{destination.get('municipality')}, {destination.get('country_name')}, ({dest_lat}, {dest_lon})\"\n",
        "\n",
        "            return (f\"* Last known flight:\\n - Origin: {origin_name} ({origin_iata}) - {origin_location}\\n - Destination: {dest_name} ({dest_iata}) - {dest_location}\")\n",
        "        else:\n",
        "            return \"No flight route data found for this tail number\"\n",
        "    except requests.RequestException as e:\n",
        "        return f\"Error fetching data: {str(e)}\"\n",
        "\n",
        "for tail_number, celebrity in aircraft_info.items():\n",
        "    print(f\"\\n{celebrity} ({tail_number}):\")\n",
        "    flight_info = get_aircraft_data(tail_number)\n",
        "    print(flight_info)\n",
        "    flight_location = get_aircraft_location(tail_number)\n",
        "    print(flight_location)\n",
        "    time.sleep(1)"
      ],
      "metadata": {
        "colab": {
          "base_uri": "https://localhost:8080/"
        },
        "id": "3ZyoIVIDpL3n",
        "outputId": "834a1c2d-867b-4217-8fc3-3d96610c8931"
      },
      "execution_count": 74,
      "outputs": [
        {
          "output_type": "stream",
          "name": "stdout",
          "text": [
            "\n",
            "Tom Cruise (N350XX):\n",
            "* Type: Challenger 300\n",
            " - ICAO Type: CL30\n",
            " - Manufacturer: Bombardier\n",
            " - Registered Owner: A-OK Jets\n",
            " - Country: United States\n",
            "* Last known flight:\n",
            " - Origin: Tri-Cities Regional TN/VA Airport (TRI) - Bristol/Johnson/Kingsport, United States, (36.475201, -82.407401)\n",
            " - Destination: Napa County Airport (APC) - Napa, United States, (38.2132, -122.280998)\n",
            "\n",
            "Taylor Swift (N621MM):\n",
            "* Type: Falcon 7X\n",
            " - ICAO Type: FA7X\n",
            " - Manufacturer: Dassault\n",
            " - Registered Owner: Island Jet Inc\n",
            " - Country: United States\n",
            "No flight route data found for this tail number\n",
            "\n",
            "Elon Musk (N628TS):\n",
            "* Type: G650 ER\n",
            " - ICAO Type: G650\n",
            " - Manufacturer: Gulfstream Aerospace\n",
            " - Registered Owner: Falcon Landing LLC\n",
            " - Country: United States\n",
            "No flight route data found for this tail number\n"
          ]
        }
      ]
    }
  ]
}